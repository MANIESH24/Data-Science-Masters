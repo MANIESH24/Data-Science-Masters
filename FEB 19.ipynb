{
 "cells": [
  {
   "cell_type": "markdown",
   "id": "9e94c7ab-d918-495e-9453-194678ef642f",
   "metadata": {},
   "source": [
    "Flask is a micro web framework for Python, designed to be lightweight, simple, and flexible. It provides the necessary tools and utilities to build web applications quickly and efficiently. Here are some advantages of using the Flask framework:\n",
    "\n",
    "1. Lightweight and Minimalistic: Flask is designed to be minimalistic and has a small codebase, making it easy to understand and learn. It provides only the essential features needed for web development, allowing developers to have more control over their code and project structure.\n",
    "\n",
    "2. Flexibility: Flask follows a \"micro\" philosophy, which means it provides a basic foundation for building web applications but allows developers to choose and integrate additional libraries and tools based on their specific needs. This flexibility enables developers to have more control and adaptability when building their applications.\n",
    "\n",
    "3. Easy to Get Started: Flask has a relatively low learning curve, making it a popular choice for beginners and developers new to web development. The simplicity of Flask's API and the availability of extensive documentation and tutorials contribute to its ease of use and accessibility.\n",
    "\n",
    "4. Modular and Extensible: Flask provides a modular design, allowing developers to add or remove features as required. It supports various extensions for common functionalities like authentication, database integration, form handling, and more. These extensions provide additional functionality without compromising the core simplicity of Flask.\n",
    "\n",
    "5. Scalability: Flask is scalable and can handle small to large projects. As Flask applications are not tightly coupled to a specific structure or set of features, developers have the flexibility to scale their application based on their specific needs and requirements.\n",
    "\n",
    "6. Large and Active Community: Flask has a vibrant and supportive community of developers. This means there are numerous resources available, such as documentation, tutorials, forums, and open-source projects, which can help developers get assistance and learn from others.\n",
    "\n",
    "7. Well-tested and Stable: Flask is a mature framework that has been around for a while and has a robust testing ecosystem. It has a stable codebase, with frequent updates and bug fixes, ensuring reliability and security.\n",
    "\n",
    "It's important to note that while Flask offers advantages such as simplicity and flexibility, it may not be the best choice for all web development scenarios. For large-scale projects that require more out-of-the-box functionality and convention, a full-stack framework like Django may be a better fit."
   ]
  },
  {
   "cell_type": "markdown",
   "id": "fd84e09b-f7da-47d2-b4f1-8ad34c925a64",
   "metadata": {},
   "source": [
    "2) \n",
    "from flask import Flask\n",
    "\n",
    "app = Flask(__name__)\n",
    "\n",
    "@app.route('/mark')\n",
    "def hello_world():\n",
    "    return 'Hello World!!'\n",
    "\n",
    "if __name__ == '__main__':\n",
    "    app.run(host=\"0.0.0.0\")"
   ]
  },
  {
   "cell_type": "markdown",
   "id": "26b95fe3-3bfb-421b-b15b-16e6e6586511",
   "metadata": {},
   "source": [
    "3) App routing in Flask refers to the process of mapping URLs or routes to specific functions in a Flask application. It allows you to define different endpoints or routes for your web application, determining which function should be executed when a particular URL is requested.\n",
    "\n",
    "In Flask, app routes are used to handle incoming HTTP requests and define the behavior of the web application based on the requested URL. Here are some reasons why we use app routes in Flask:\n",
    "\n",
    "1. URL Mapping: App routes provide a way to map specific URLs to functions in your Flask application. By using the `@app.route()` decorator, you can specify the URL patterns and associate them with the corresponding Python functions that will handle the request and generate the response.\n",
    "\n",
    "2. Endpoint Customization: App routes allow you to define custom endpoints for different functionalities of your web application. Each app route corresponds to a specific URL and can execute different logic or return different content based on the request.\n",
    "\n",
    "3. Handling HTTP Methods: App routes in Flask can be associated with specific HTTP methods, such as GET, POST, PUT, DELETE, etc. This allows you to define different functions for handling different types of requests and perform appropriate actions based on the HTTP method used.\n",
    "\n",
    "4. Separation of Concerns: By using app routes, you can separate different parts or functionalities of your web application into distinct functions. Each function can handle a specific route or endpoint, making your code more organized and modular.\n",
    "\n",
    "5. Dynamic URL Parameters: App routes in Flask can include dynamic URL parameters, such as `<parameter>`, to capture values from the URL and pass them as arguments to the corresponding function. This enables you to create dynamic and flexible routes that can handle varying inputs.\n",
    "\n",
    "6. RESTful API Development: App routes are commonly used when developing RESTful APIs in Flask. Each route can represent a specific API endpoint, allowing you to define the behavior and response for different API calls.\n",
    "\n",
    "In summary, app routing in Flask allows you to define the URL structure and associated functionality of your web application. It provides a flexible and organized way to handle different routes and HTTP methods, enabling you to build dynamic and interactive web applications."
   ]
  },
  {
   "cell_type": "markdown",
   "id": "75ec5091-4dda-41a5-95cf-efaf39e64a04",
   "metadata": {},
   "source": [
    "4) from flask import Flask\n",
    "from flask import request\n",
    "\n",
    "app = Flask(__name__)\n",
    "\n",
    "@app.route(\"/Welcome\")\n",
    "def welcome():\n",
    "    return \"Welcome to ABC corporation\"\n",
    "\n",
    "@app.route(\"/\")\n",
    "def company_details():\n",
    "    return ''' \n",
    "    \n",
    "    Company Name: ABC Corporation\n",
    "\n",
    "\n",
    "    </h1>Location: India</h1>\n",
    "\n",
    "\n",
    "    </h1>Contact Detail: 999-999-9999</h1>\n",
    "    '''\n",
    " \n",
    "\n",
    "if __name__==\"__main__\":\n",
    "    app.run(host=\"0.0.0.0\")\n",
    "\n"
   ]
  },
  {
   "cell_type": "raw",
   "id": "3563956d-0e74-4f15-8bb9-62ca9550e227",
   "metadata": {},
   "source": [
    "#5) \n",
    "from flask import Flask, url_for\n",
    "from request import Flask\n",
    "\n",
    "app = Flask(__name__)\n",
    "\n",
    "@app.route('/')\n",
    "def home():\n",
    "    return 'Home Page'\n",
    "\n",
    "@app.route('/about')\n",
    "def about():\n",
    "    return 'About Page'\n",
    "\n",
    "@app.route('/contact')\n",
    "def contact():\n",
    "    return 'Contact Page'\n",
    "\n",
    "if __name__ == '__main__':\n",
    "    with app.test_request_context():\n",
    "        # Generating URLs using url_for() function\n",
    "        home_url = url_for('home')\n",
    "        about_url = url_for('about')\n",
    "        contact_url = url_for('contact')\n",
    "\n",
    "        # Printing the generated URLs\n",
    "        print(\"Home URL:\", home_url)\n",
    "        print(\"About URL:\", about_url)\n",
    "        print(\"Contact URL:\", contact_url)\n"
   ]
  },
  {
   "cell_type": "raw",
   "id": "d12c6bc3-928a-46e1-8748-fd60400aa3b7",
   "metadata": {},
   "source": []
  },
  {
   "cell_type": "code",
   "execution_count": null,
   "id": "1399f80b-5df2-400a-b59b-72fbdb57bc67",
   "metadata": {},
   "outputs": [],
   "source": []
  }
 ],
 "metadata": {
  "kernelspec": {
   "display_name": "Python 3 (ipykernel)",
   "language": "python",
   "name": "python3"
  },
  "language_info": {
   "codemirror_mode": {
    "name": "ipython",
    "version": 3
   },
   "file_extension": ".py",
   "mimetype": "text/x-python",
   "name": "python",
   "nbconvert_exporter": "python",
   "pygments_lexer": "ipython3",
   "version": "3.10.8"
  }
 },
 "nbformat": 4,
 "nbformat_minor": 5
}
