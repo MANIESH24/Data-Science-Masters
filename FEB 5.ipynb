{
 "cells": [
  {
   "cell_type": "markdown",
   "id": "6cb6e16a-5bfd-4953-a494-a8b718536bd9",
   "metadata": {},
   "source": [
    "### 1) In Object-Oriented Programming (OOP), a Class is a blueprint or template that defines a set of properties and behaviors for a particular type of object. An Object, on the other hand, is an instance of a class, created by instantiating the class with a constructor method. Objects have their own set of properties and behaviors, based on the specifications of their parent class.\n",
    "\n",
    "### For example, let's say we are creating a program to model a library. We might start by defining a class called Book, which will serve as a blueprint for creating individual book objects:"
   ]
  },
  {
   "cell_type": "code",
   "execution_count": 1,
   "id": "04a323cd-5e74-4e78-a0cd-0bf10469ee50",
   "metadata": {},
   "outputs": [],
   "source": [
    "class Book:\n",
    "    def __init__(self, title, author, year):\n",
    "        self.title = title\n",
    "        self.author = author\n",
    "        self.year = year\n",
    "\n",
    "    def get_info(self):\n",
    "        return f\"{self.title} by {self.author}, published in {self.year}\"\n"
   ]
  },
  {
   "cell_type": "markdown",
   "id": "496f1428-d501-46f5-97fc-7a15788eafec",
   "metadata": {},
   "source": [
    "### In this example, the Book class has three properties: title, author, and year, which are passed as arguments to the constructor method __init__() and assigned to instance variables using the self keyword. The class also has a method called get_info(), which returns a formatted string containing information about the book.\n",
    "\n",
    "### To create an object of the Book class, we can call the constructor method and pass in values for the properties:"
   ]
  },
  {
   "cell_type": "code",
   "execution_count": 2,
   "id": "689329e9-1327-4d19-9d8f-d115bd3f1c72",
   "metadata": {},
   "outputs": [],
   "source": [
    "my_book = Book(\"The Catcher in the Rye\", \"J.D. Salinger\", 1951)\n"
   ]
  },
  {
   "cell_type": "markdown",
   "id": "6845bc7b-4144-4570-9991-612e1644e13d",
   "metadata": {},
   "source": [
    "### This creates a new object of the Book class, which we have assigned to the variable my_book. We can now access the properties and methods of the object using dot notation:"
   ]
  },
  {
   "cell_type": "code",
   "execution_count": 3,
   "id": "5a9fc74e-4d59-46e6-967d-7456c8348e69",
   "metadata": {},
   "outputs": [
    {
     "name": "stdout",
     "output_type": "stream",
     "text": [
      "The Catcher in the Rye\n",
      "The Catcher in the Rye by J.D. Salinger, published in 1951\n"
     ]
    }
   ],
   "source": [
    "print(my_book.title)    # Output: The Catcher in the Rye\n",
    "print(my_book.get_info())    # Output: The Catcher in the Rye by J.D. Salinger, published in 1951\n"
   ]
  },
  {
   "cell_type": "markdown",
   "id": "c7674b58-e098-4e45-9b92-96e911e235ff",
   "metadata": {},
   "source": [
    "### 2) The four pillars of Object-Oriented Programming (OOP) are:\n",
    "\n",
    "Encapsulation: Encapsulation is the process of hiding the implementation details of an object from the outside world, and restricting access to its internal state only through a public interface. In other words, it involves bundling data and methods together in a single unit (a class) and controlling access to that unit from outside the class. Encapsulation helps to protect the integrity of an object's data and ensure that it is only modified in a controlled manner.\n",
    "\n",
    "Inheritance: Inheritance is a mechanism that allows a new class to be based on an existing class, inheriting its properties and methods. This promotes code reuse and saves time by allowing the creation of new classes that are similar to existing ones. The existing class is called the parent or base class, while the new class is called the child or derived class. Inheritance is useful for creating more specialized classes that inherit common properties and behaviors from a more general parent class.\n",
    "\n",
    "Polymorphism: Polymorphism is the ability of an object to take on many forms. This can be achieved in different ways, such as through method overloading or method overriding. Method overloading involves defining multiple methods with the same name but different parameters, while method overriding involves redefining a method in a child class that was already defined in the parent class. Polymorphism allows for more flexible and dynamic code that can handle a variety of different inputs and scenarios.\n",
    "\n",
    "Abstraction: Abstraction involves focusing on essential features of an object while ignoring less important or irrelevant details. This can be achieved by defining an abstract class or interface that provides a general structure or blueprint for a group of related classes. Abstract classes cannot be instantiated directly, but can be subclassed to create more specific classes. Abstraction helps to simplify complex systems by breaking them down into smaller, more manageable components.\n",
    "By using these four pillars of OOP, developers can create more modular, reusable, and flexible code that can better model real-world objects and systems."
   ]
  },
  {
   "cell_type": "markdown",
   "id": "b4a97d87-1618-4a96-afe0-8fb540da4a5d",
   "metadata": {},
   "source": [
    "### 3) In Python, the __init__() function is a special method that is called when an object of a class is created. It is commonly used to initialize the attributes (data members) of the object with the values passed as arguments during the object's creation.\n",
    "\n",
    "### For example, consider the following Python class definition for a Car class:"
   ]
  },
  {
   "cell_type": "code",
   "execution_count": 5,
   "id": "c3a148b8-fd63-4c87-92bb-6ea808b56f3c",
   "metadata": {},
   "outputs": [],
   "source": [
    "class Car:\n",
    "    def __init__(self, make, model, year):\n",
    "        self.make = make\n",
    "        self.model = model\n",
    "        self.year = year\n"
   ]
  },
  {
   "cell_type": "markdown",
   "id": "def404f0-602d-4eb6-9712-ca660b6a50b5",
   "metadata": {},
   "source": [
    "### In this class, the __init__() method takes three parameters: make, model, and year. The self parameter is a reference to the object being created.\n",
    "\n",
    "### When an object of the Car class is created, the __init__() method is called automatically, and the values passed as arguments are used to initialize the make, model, and year attributes of the object.\n",
    "\n",
    "### For example, we can create an object of the Car class like this:"
   ]
  },
  {
   "cell_type": "code",
   "execution_count": 6,
   "id": "b9ab6d16-4bc9-4864-a9c6-7e0d7a442ff6",
   "metadata": {},
   "outputs": [],
   "source": [
    "my_car = Car(\"Toyota\", \"Corolla\", 2019)\n"
   ]
  },
  {
   "cell_type": "markdown",
   "id": "c4b2155a-4c3a-4b6a-86f6-9cbe00463504",
   "metadata": {},
   "source": [
    "### This creates a new Car object with the make attribute set to \"Toyota\", the model attribute set to \"Corolla\", and the year attribute set to 2019.\n",
    "\n",
    "### By using the __init__() method to initialize the attributes of the object, we can ensure that every instance of the class has the required attributes and that these attributes are set to appropriate values at the time of object creation. This helps to make the code more readable, maintainable, and flexible."
   ]
  },
  {
   "cell_type": "markdown",
   "id": "b30a0bfc-5046-464e-924d-3cdaeda2eb94",
   "metadata": {},
   "source": [
    "### 4) In object-oriented programming (OOP), self is used to refer to the instance of the class. It is a reference to the current object that the method or attribute belongs to.\n",
    "\n",
    "### In Python, self is the conventional name used for this reference, although you can choose any name you like for this parameter. When a method is called on an object, the object itself is automatically passed as the first argument to the method, and this is represented by the self parameter.\n",
    "\n",
    "### Using self in OOP is important because it allows the class to differentiate between different instances of the same class. Each instance of a class has its own set of attributes and methods, and self is used to access those attributes and methods within the class.\n",
    "\n",
    "### For example, consider the following Python class definition for a Person class:"
   ]
  },
  {
   "cell_type": "code",
   "execution_count": 7,
   "id": "cf0f2fb8-b446-4bb8-bc45-54c720318d3e",
   "metadata": {},
   "outputs": [],
   "source": [
    "class Person:\n",
    "    def __init__(self, name, age):\n",
    "        self.name = name\n",
    "        self.age = age\n",
    "\n",
    "    def say_hello(self):\n",
    "        print(f\"Hello, my name is {self.name} and I am {self.age} years old.\")\n"
   ]
  },
  {
   "cell_type": "markdown",
   "id": "ac8fb1a6-f306-4392-af35-313d89f74027",
   "metadata": {},
   "source": [
    "### In this class, the __init__() method takes two parameters, name and age, and initializes the corresponding attributes of the object with these values. The say_hello() method uses the self parameter to access the name and age attributes of the object and print a message using these attributes.\n",
    "\n",
    "### When an object of the Person class is created, the self parameter is automatically set to refer to that object, and this allows us to access and manipulate the attributes and methods of that object within the class.\n",
    "\n",
    "### By using self in OOP, we can create more flexible and reusable code that can handle multiple instances of the same class and provide different behaviors and outcomes for each instance."
   ]
  },
  {
   "cell_type": "markdown",
   "id": "2b6f516b-0e07-4058-bb66-cda11a4a77c7",
   "metadata": {},
   "source": [
    "### 5) Inheritance is a key concept in object-oriented programming that allows one class (called the child or derived class) to inherit properties and methods from another class (called the parent or base class). In other words, the child class can reuse code from the parent class without having to rewrite it.\n",
    "\n",
    "#### There are several types of inheritance in object-oriented programming. The most common ones are:\n",
    "\n",
    "#### Single Inheritance: In single inheritance, a child class inherits from a single parent class. The child class inherits all the attributes and methods of the parent class.\n",
    "#### Example:\n",
    "\n",
    "## ruby\n",
    "## Copy code\n",
    "## class Animal:\n",
    "    ##def __init__(self, name):\n",
    "        ##self.name = name\n",
    "\n",
    "    def speak(self):\n",
    "        pass\n",
    "\n",
    "### class Dog(Animal):\n",
    "    ### def speak(self):\n",
    "        ###return \"Woof!\"\n",
    "\n",
    "### my_dog = Dog(\"Rex\")\n",
    "## print(my_dog.name)   # Output: Rex\n",
    "## print(my_dog.speak())  # Output: Woof!\n",
    "## In this example, the Dog class inherits from the Animal class. The Dog class has an additional method called speak() that overrides the speak() method of the Animal class.\n",
    "\n",
    "## Multiple Inheritance: In multiple inheritance, a child class inherits from multiple parent classes. The child class inherits all the attributes and methods of the parent classes.\n",
    "## Example:\n",
    "\n",
    "## ruby\n",
    "## Copy code\n",
    "## class Flyer:\n",
    "    def fly(self):\n",
    "        return \"I can fly!\"\n",
    "\n",
    "## class Swimmer:\n",
    "    def swim(self):\n",
    "        return \"I can swim!\"\n",
    "\n",
    "## class Duck(Flyer, Swimmer):\n",
    "    pass\n",
    "\n",
    "## my_duck = Duck()\n",
    "## print(my_duck.fly())    # Output: I can fly!\n",
    "## print(my_duck.swim())   # Output: I can swim!\n",
    "## In this example, the Duck class inherits from both the Flyer and Swimmer classes. The Duck class does not define any new methods, but it inherits the fly() method from the Flyer class and the swim() method from the Swimmer class.\n",
    "\n",
    "## Multilevel Inheritance: In multilevel inheritance, a child class inherits from a parent class, which in turn inherits from another parent class. The child class inherits all the attributes and methods of both the parent classes.\n",
    "## Example:\n",
    "\n",
    "## ruby\n",
    "## Copy code\n",
    "## class Animal:\n",
    "    def speak(self):\n",
    "        return \"I can speak!\"\n",
    "\n",
    "## class Mammal(Animal):\n",
    "    def breathe(self):\n",
    "        return \"I can breathe!\"\n",
    "\n",
    "## class Dog(Mammal):\n",
    "    pass\n",
    "\n",
    "## my_dog = Dog()\n",
    "## print(my_dog.speak())    # Output: I can speak!\n",
    "## print(my_dog.breathe())  # Output: I can breathe!\n",
    "## In this example, the Dog class inherits from the Mammal class, which in turn inherits from the Animal class. The Dog class inherits both the speak() and breathe() methods from its parent classes.\n",
    "\n",
    "## Hierarchical Inheritance: In hierarchical inheritance, multiple child classes inherit from a single parent class. Each child class inherits all the attributes and methods of the parent class.\n",
    "## Example:\n",
    "\n",
    "## ruby\n",
    "## Copy code\n",
    "## class Animal:\n",
    "    def speak(self):\n",
    "        return \"I can speak!\"\n",
    "\n",
    "## class Dog(Animal):\n",
    "    def bark(self):\n",
    "        return \"I can bark!\"\n",
    "\n",
    "## class Cat(Animal):\n",
    "    def meow(self):\n",
    "        return \"I can meow!\"\n",
    "\n",
    "## my_dog = Dog()\n",
    "## print(my_dog.speak())    # Output: I can speak!\n",
    "## print(my_dog.bark())     # Output: I can bark!\n",
    "\n",
    "## my_cat = Cat()\n",
    "## print(my_cat.speak())    # Output: I can speak!\n",
    "## print(my_cat.meow())     # Output:"
   ]
  },
  {
   "cell_type": "code",
   "execution_count": null,
   "id": "f8c1def5-6730-4a9d-bf19-ade8550e93ed",
   "metadata": {},
   "outputs": [],
   "source": []
  }
 ],
 "metadata": {
  "kernelspec": {
   "display_name": "Python 3 (ipykernel)",
   "language": "python",
   "name": "python3"
  },
  "language_info": {
   "codemirror_mode": {
    "name": "ipython",
    "version": 3
   },
   "file_extension": ".py",
   "mimetype": "text/x-python",
   "name": "python",
   "nbconvert_exporter": "python",
   "pygments_lexer": "ipython3",
   "version": "3.10.8"
  }
 },
 "nbformat": 4,
 "nbformat_minor": 5
}
