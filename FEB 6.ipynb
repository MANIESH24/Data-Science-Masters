{
 "cells": [
  {
   "cell_type": "raw",
   "id": "07e88bf6-1663-4068-9a8c-ea3620ef46fc",
   "metadata": {},
   "source": [
    "#### 1) def flatten_and_product(lst):\n",
    "    def flatten(lst):\n",
    "        flat_list = []\n",
    "        for item in lst:\n",
    "            if isinstance(item, (list, tuple, set)):\n",
    "                flat_list.extend(flatten(item))\n",
    "            elif isinstance(item, dict):\n",
    "                flat_list.extend(flatten(list(item.keys())))\n",
    "                flat_list.extend(flatten(list(item.values())))\n",
    "            else:\n",
    "                if isinstance(item, (int, float)):\n",
    "                    flat_list.append(item)\n",
    "        return flat_list\n",
    "\n",
    "    flattened_list = flatten(lst)\n",
    "    product = 1\n",
    "    for num in flattened_list:\n",
    "        product *= num\n",
    "    return product\n",
    "\n",
    "# Test the function\n",
    "list1 = [1, 2, 3, 4, [44, 55, 66, True], False, (34, 56, 78, 89, 34), {1, 2, 3, 3, 2, 1},\n",
    "         {1: 34, \"key2\": [55, 67, 78, 89], 4: (45, 22, 61, 34)}, [56, 'data science'], 'Machine Learning']\n",
    "result = flatten_and_product(list1)\n",
    "print(result)  # Output: 41345142969600\n"
   ]
  },
  {
   "cell_type": "raw",
   "id": "270420d8-602a-42f1-8c66-1bd558f71176",
   "metadata": {},
   "source": [
    "#### 2) \n",
    "def encrypt_message(message):\n",
    "    encrypted_message = \"\"\n",
    "    for char in message:\n",
    "        if char.isalpha():\n",
    "            if char.islower():\n",
    "                encrypted_char = chr(219 - ord(char))\n",
    "            else:\n",
    "                encrypted_char = chr(155 - ord(char))\n",
    "        elif char == ' ':\n",
    "            encrypted_char = '$'\n",
    "        else:\n",
    "            encrypted_char = char\n",
    "        encrypted_message += encrypted_char\n",
    "    return encrypted_message.lower()\n",
    "\n",
    "# Test the program\n",
    "input_sentence = \"I want to become a Data Scientist.\"\n",
    "encrypted_sentence = encrypt_message(input_sentence)\n",
    "print(encrypted_sentence)\n",
    " "
   ]
  },
  {
   "cell_type": "code",
   "execution_count": null,
   "id": "5c850791-f90b-4f4e-91b2-d115fadfe4eb",
   "metadata": {},
   "outputs": [],
   "source": []
  }
 ],
 "metadata": {
  "kernelspec": {
   "display_name": "Python 3 (ipykernel)",
   "language": "python",
   "name": "python3"
  },
  "language_info": {
   "codemirror_mode": {
    "name": "ipython",
    "version": 3
   },
   "file_extension": ".py",
   "mimetype": "text/x-python",
   "name": "python",
   "nbconvert_exporter": "python",
   "pygments_lexer": "ipython3",
   "version": "3.10.8"
  }
 },
 "nbformat": 4,
 "nbformat_minor": 5
}
